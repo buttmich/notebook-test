{
 "cells": [
  {
   "cell_type": "code",
   "execution_count": 1,
   "metadata": {},
   "outputs": [],
   "source": [
    "import pandas as pd\n",
    "import numpy as np\n",
    "import yfinance as yf\n",
    "import pytrade\n",
    "import matplotlib.pyplot as plt\n",
    "import datetime\n",
    "\n",
    "pd.options.display.float_format = '{:,.3f}'.format"
   ]
  },
  {
   "cell_type": "code",
   "execution_count": 2,
   "metadata": {
    "scrolled": true
   },
   "outputs": [
    {
     "name": "stdout",
     "output_type": "stream",
     "text": [
      "Wall time: 157 ms\n"
     ]
    },
    {
     "data": {
      "text/html": [
       "<div>\n",
       "<style scoped>\n",
       "    .dataframe tbody tr th:only-of-type {\n",
       "        vertical-align: middle;\n",
       "    }\n",
       "\n",
       "    .dataframe tbody tr th {\n",
       "        vertical-align: top;\n",
       "    }\n",
       "\n",
       "    .dataframe thead th {\n",
       "        text-align: right;\n",
       "    }\n",
       "</style>\n",
       "<table border=\"1\" class=\"dataframe\">\n",
       "  <thead>\n",
       "    <tr style=\"text-align: right;\">\n",
       "      <th></th>\n",
       "      <th>latest</th>\n",
       "      <th>three_wk_high</th>\n",
       "      <th>three_wk_low</th>\n",
       "      <th>three_m_high</th>\n",
       "      <th>three_m_low</th>\n",
       "      <th>one_yr_high</th>\n",
       "      <th>one_yr_low</th>\n",
       "      <th>three_wk_range</th>\n",
       "      <th>three_m_range</th>\n",
       "      <th>one_yr_range</th>\n",
       "      <th>short_term_stochastic</th>\n",
       "      <th>long_term_stochastic</th>\n",
       "      <th>st_potential</th>\n",
       "      <th>lt_potential</th>\n",
       "      <th>short_term_metric</th>\n",
       "      <th>long_term_metric</th>\n",
       "    </tr>\n",
       "  </thead>\n",
       "  <tbody>\n",
       "    <tr>\n",
       "      <th>JD</th>\n",
       "      <td>61.710</td>\n",
       "      <td>68.717</td>\n",
       "      <td>61.710</td>\n",
       "      <td>68.717</td>\n",
       "      <td>47.006</td>\n",
       "      <td>68.717</td>\n",
       "      <td>29.547</td>\n",
       "      <td>0.000</td>\n",
       "      <td>0.677</td>\n",
       "      <td>0.821</td>\n",
       "      <td>0.821</td>\n",
       "      <td>0.144</td>\n",
       "      <td>0.114</td>\n",
       "      <td>0.114</td>\n",
       "      <td>1.000</td>\n",
       "      <td>0.353</td>\n",
       "    </tr>\n",
       "    <tr>\n",
       "      <th>MELI</th>\n",
       "      <td>956.620</td>\n",
       "      <td>1,045.759</td>\n",
       "      <td>956.620</td>\n",
       "      <td>1,045.759</td>\n",
       "      <td>644.245</td>\n",
       "      <td>1,045.759</td>\n",
       "      <td>504.735</td>\n",
       "      <td>0.000</td>\n",
       "      <td>0.778</td>\n",
       "      <td>0.835</td>\n",
       "      <td>0.835</td>\n",
       "      <td>0.057</td>\n",
       "      <td>0.093</td>\n",
       "      <td>0.093</td>\n",
       "      <td>0.982</td>\n",
       "      <td>0.229</td>\n",
       "    </tr>\n",
       "    <tr>\n",
       "      <th>SPLK</th>\n",
       "      <td>199.020</td>\n",
       "      <td>213.346</td>\n",
       "      <td>199.020</td>\n",
       "      <td>213.346</td>\n",
       "      <td>145.808</td>\n",
       "      <td>213.346</td>\n",
       "      <td>118.197</td>\n",
       "      <td>0.000</td>\n",
       "      <td>0.788</td>\n",
       "      <td>0.849</td>\n",
       "      <td>0.849</td>\n",
       "      <td>0.062</td>\n",
       "      <td>0.072</td>\n",
       "      <td>0.072</td>\n",
       "      <td>0.963</td>\n",
       "      <td>0.194</td>\n",
       "    </tr>\n",
       "    <tr>\n",
       "      <th>PYPL</th>\n",
       "      <td>169.810</td>\n",
       "      <td>186.922</td>\n",
       "      <td>169.810</td>\n",
       "      <td>186.922</td>\n",
       "      <td>124.405</td>\n",
       "      <td>186.922</td>\n",
       "      <td>103.428</td>\n",
       "      <td>0.000</td>\n",
       "      <td>0.726</td>\n",
       "      <td>0.795</td>\n",
       "      <td>0.795</td>\n",
       "      <td>0.069</td>\n",
       "      <td>0.101</td>\n",
       "      <td>0.101</td>\n",
       "      <td>0.954</td>\n",
       "      <td>0.255</td>\n",
       "    </tr>\n",
       "    <tr>\n",
       "      <th>IDXX</th>\n",
       "      <td>339.200</td>\n",
       "      <td>348.045</td>\n",
       "      <td>339.200</td>\n",
       "      <td>348.045</td>\n",
       "      <td>296.616</td>\n",
       "      <td>348.045</td>\n",
       "      <td>255.028</td>\n",
       "      <td>0.000</td>\n",
       "      <td>0.828</td>\n",
       "      <td>0.905</td>\n",
       "      <td>0.905</td>\n",
       "      <td>0.077</td>\n",
       "      <td>0.026</td>\n",
       "      <td>0.026</td>\n",
       "      <td>0.946</td>\n",
       "      <td>0.125</td>\n",
       "    </tr>\n",
       "    <tr>\n",
       "      <th>...</th>\n",
       "      <td>...</td>\n",
       "      <td>...</td>\n",
       "      <td>...</td>\n",
       "      <td>...</td>\n",
       "      <td>...</td>\n",
       "      <td>...</td>\n",
       "      <td>...</td>\n",
       "      <td>...</td>\n",
       "      <td>...</td>\n",
       "      <td>...</td>\n",
       "      <td>...</td>\n",
       "      <td>...</td>\n",
       "      <td>...</td>\n",
       "      <td>...</td>\n",
       "      <td>...</td>\n",
       "      <td>...</td>\n",
       "    </tr>\n",
       "    <tr>\n",
       "      <th>PVH</th>\n",
       "      <td>51.260</td>\n",
       "      <td>51.260</td>\n",
       "      <td>43.367</td>\n",
       "      <td>69.099</td>\n",
       "      <td>43.367</td>\n",
       "      <td>107.605</td>\n",
       "      <td>40.042</td>\n",
       "      <td>1.000</td>\n",
       "      <td>0.307</td>\n",
       "      <td>0.166</td>\n",
       "      <td>-0.834</td>\n",
       "      <td>-0.141</td>\n",
       "      <td>-0.145</td>\n",
       "      <td>-0.114</td>\n",
       "      <td>-1.063</td>\n",
       "      <td>-0.351</td>\n",
       "    </tr>\n",
       "    <tr>\n",
       "      <th>TPR</th>\n",
       "      <td>14.040</td>\n",
       "      <td>14.060</td>\n",
       "      <td>12.589</td>\n",
       "      <td>18.651</td>\n",
       "      <td>12.589</td>\n",
       "      <td>31.961</td>\n",
       "      <td>12.589</td>\n",
       "      <td>0.987</td>\n",
       "      <td>0.239</td>\n",
       "      <td>0.075</td>\n",
       "      <td>-0.912</td>\n",
       "      <td>-0.164</td>\n",
       "      <td>-0.103</td>\n",
       "      <td>-0.103</td>\n",
       "      <td>-1.074</td>\n",
       "      <td>-0.355</td>\n",
       "    </tr>\n",
       "    <tr>\n",
       "      <th>XRX</th>\n",
       "      <td>17.330</td>\n",
       "      <td>17.330</td>\n",
       "      <td>14.925</td>\n",
       "      <td>20.751</td>\n",
       "      <td>14.925</td>\n",
       "      <td>39.036</td>\n",
       "      <td>14.925</td>\n",
       "      <td>1.000</td>\n",
       "      <td>0.413</td>\n",
       "      <td>0.100</td>\n",
       "      <td>-0.900</td>\n",
       "      <td>-0.313</td>\n",
       "      <td>-0.139</td>\n",
       "      <td>-0.139</td>\n",
       "      <td>-1.119</td>\n",
       "      <td>-0.569</td>\n",
       "    </tr>\n",
       "    <tr>\n",
       "      <th>FTI</th>\n",
       "      <td>7.880</td>\n",
       "      <td>7.880</td>\n",
       "      <td>6.947</td>\n",
       "      <td>10.141</td>\n",
       "      <td>6.947</td>\n",
       "      <td>29.321</td>\n",
       "      <td>6.579</td>\n",
       "      <td>1.000</td>\n",
       "      <td>0.292</td>\n",
       "      <td>0.057</td>\n",
       "      <td>-0.943</td>\n",
       "      <td>-0.235</td>\n",
       "      <td>-0.116</td>\n",
       "      <td>-0.111</td>\n",
       "      <td>-1.126</td>\n",
       "      <td>-0.439</td>\n",
       "    </tr>\n",
       "    <tr>\n",
       "      <th>^GSPC</th>\n",
       "      <td>3,215.570</td>\n",
       "      <td>3,215.570</td>\n",
       "      <td>3,215.570</td>\n",
       "      <td>3,215.570</td>\n",
       "      <td>3,215.570</td>\n",
       "      <td>3,215.570</td>\n",
       "      <td>3,215.570</td>\n",
       "      <td>nan</td>\n",
       "      <td>nan</td>\n",
       "      <td>nan</td>\n",
       "      <td>nan</td>\n",
       "      <td>nan</td>\n",
       "      <td>nan</td>\n",
       "      <td>nan</td>\n",
       "      <td>nan</td>\n",
       "      <td>nan</td>\n",
       "    </tr>\n",
       "  </tbody>\n",
       "</table>\n",
       "<p>537 rows × 16 columns</p>\n",
       "</div>"
      ],
      "text/plain": [
       "         latest  three_wk_high  three_wk_low  three_m_high  three_m_low  \\\n",
       "JD       61.710         68.717        61.710        68.717       47.006   \n",
       "MELI    956.620      1,045.759       956.620     1,045.759      644.245   \n",
       "SPLK    199.020        213.346       199.020       213.346      145.808   \n",
       "PYPL    169.810        186.922       169.810       186.922      124.405   \n",
       "IDXX    339.200        348.045       339.200       348.045      296.616   \n",
       "...         ...            ...           ...           ...          ...   \n",
       "PVH      51.260         51.260        43.367        69.099       43.367   \n",
       "TPR      14.040         14.060        12.589        18.651       12.589   \n",
       "XRX      17.330         17.330        14.925        20.751       14.925   \n",
       "FTI       7.880          7.880         6.947        10.141        6.947   \n",
       "^GSPC 3,215.570      3,215.570     3,215.570     3,215.570    3,215.570   \n",
       "\n",
       "       one_yr_high  one_yr_low  three_wk_range  three_m_range  one_yr_range  \\\n",
       "JD          68.717      29.547           0.000          0.677         0.821   \n",
       "MELI     1,045.759     504.735           0.000          0.778         0.835   \n",
       "SPLK       213.346     118.197           0.000          0.788         0.849   \n",
       "PYPL       186.922     103.428           0.000          0.726         0.795   \n",
       "IDXX       348.045     255.028           0.000          0.828         0.905   \n",
       "...            ...         ...             ...            ...           ...   \n",
       "PVH        107.605      40.042           1.000          0.307         0.166   \n",
       "TPR         31.961      12.589           0.987          0.239         0.075   \n",
       "XRX         39.036      14.925           1.000          0.413         0.100   \n",
       "FTI         29.321       6.579           1.000          0.292         0.057   \n",
       "^GSPC    3,215.570   3,215.570             nan            nan           nan   \n",
       "\n",
       "       short_term_stochastic  long_term_stochastic  st_potential  \\\n",
       "JD                     0.821                 0.144         0.114   \n",
       "MELI                   0.835                 0.057         0.093   \n",
       "SPLK                   0.849                 0.062         0.072   \n",
       "PYPL                   0.795                 0.069         0.101   \n",
       "IDXX                   0.905                 0.077         0.026   \n",
       "...                      ...                   ...           ...   \n",
       "PVH                   -0.834                -0.141        -0.145   \n",
       "TPR                   -0.912                -0.164        -0.103   \n",
       "XRX                   -0.900                -0.313        -0.139   \n",
       "FTI                   -0.943                -0.235        -0.116   \n",
       "^GSPC                    nan                   nan           nan   \n",
       "\n",
       "       lt_potential  short_term_metric  long_term_metric  \n",
       "JD            0.114              1.000             0.353  \n",
       "MELI          0.093              0.982             0.229  \n",
       "SPLK          0.072              0.963             0.194  \n",
       "PYPL          0.101              0.954             0.255  \n",
       "IDXX          0.026              0.946             0.125  \n",
       "...             ...                ...               ...  \n",
       "PVH          -0.114             -1.063            -0.351  \n",
       "TPR          -0.103             -1.074            -0.355  \n",
       "XRX          -0.139             -1.119            -0.569  \n",
       "FTI          -0.111             -1.126            -0.439  \n",
       "^GSPC           nan                nan               nan  \n",
       "\n",
       "[537 rows x 16 columns]"
      ]
     },
     "execution_count": 2,
     "metadata": {},
     "output_type": "execute_result"
    }
   ],
   "source": [
    "%%time\n",
    "raw = pytrade.get_data(reload = False)\n",
    "ratios = pytrade.calculate_ratio(raw)\n",
    "output = pytrade.analysis_1.run(ratios)\n",
    "output.sort_values(by=\"short_term_metric\",ascending=False,inplace=True)\n",
    "my_shortterm = output.loc[[\"DG\",\"BLK\",\"DXCM\",\"QRVO\",\"AMD\",\"LULU\",\"MSFT\"]]\n",
    "my_longterm = output.loc[[\"AMGN\",\"AAPL\",\"UNH\",\"NLOK\",\"WMT\",\"OKE\",\"INTC\",\"KLAC\",\"REGN\"]]\n",
    "shortterm_portfolio = pytrade.Portfolio.load(\"st_portfolio\", raw)\n",
    "longterm_portfolio = pytrade.Portfolio.load(\"lt_portfolio\", raw)\n",
    "output"
   ]
  },
  {
   "cell_type": "code",
   "execution_count": null,
   "metadata": {
    "scrolled": true
   },
   "outputs": [],
   "source": [
    "output.sort_values(by=\"long_term_metric\",ascending=False,inplace=True)\n",
    "output"
   ]
  },
  {
   "cell_type": "code",
   "execution_count": null,
   "metadata": {},
   "outputs": [],
   "source": [
    "my_longterm"
   ]
  },
  {
   "cell_type": "code",
   "execution_count": null,
   "metadata": {
    "scrolled": true
   },
   "outputs": [],
   "source": [
    "my_shortterm"
   ]
  },
  {
   "cell_type": "code",
   "execution_count": 13,
   "metadata": {},
   "outputs": [
    {
     "data": {
      "text/plain": [
       "<matplotlib.axes._subplots.AxesSubplot at 0x2bba78ee3c8>"
      ]
     },
     "execution_count": 13,
     "metadata": {},
     "output_type": "execute_result"
    },
    {
     "data": {
      "image/png": "[encoded data removed]",
      "text/plain": [
       "<Figure size 432x288 with 1 Axes>"
      ]
     },
     "metadata": {
      "needs_background": "light"
     },
     "output_type": "display_data"
    }
   ],
   "source": [
    "plt.close('all')\n",
    "ratios[\"AAL\"].tail(250).plot()"
   ]
  },
  {
   "cell_type": "code",
   "execution_count": 14,
   "metadata": {},
   "outputs": [
    {
     "data": {
      "text/html": [
       "<div>\n",
       "<style scoped>\n",
       "    .dataframe tbody tr th:only-of-type {\n",
       "        vertical-align: middle;\n",
       "    }\n",
       "\n",
       "    .dataframe tbody tr th {\n",
       "        vertical-align: top;\n",
       "    }\n",
       "\n",
       "    .dataframe thead th {\n",
       "        text-align: right;\n",
       "    }\n",
       "</style>\n",
       "<table border=\"1\" class=\"dataframe\">\n",
       "  <thead>\n",
       "    <tr style=\"text-align: right;\">\n",
       "      <th></th>\n",
       "      <th>latest</th>\n",
       "      <th>three_wk_high</th>\n",
       "      <th>three_wk_low</th>\n",
       "      <th>three_m_high</th>\n",
       "      <th>three_m_low</th>\n",
       "      <th>one_yr_high</th>\n",
       "      <th>one_yr_low</th>\n",
       "      <th>three_wk_range</th>\n",
       "      <th>three_m_range</th>\n",
       "      <th>one_yr_range</th>\n",
       "      <th>short_term_stochastic</th>\n",
       "      <th>long_term_stochastic</th>\n",
       "      <th>st_potential</th>\n",
       "      <th>lt_potential</th>\n",
       "      <th>short_term_metric</th>\n",
       "      <th>long_term_metric</th>\n",
       "    </tr>\n",
       "  </thead>\n",
       "  <tbody>\n",
       "    <tr>\n",
       "      <th>TSLA</th>\n",
       "      <td>1,500.640</td>\n",
       "      <td>1,559.456</td>\n",
       "      <td>1,025.610</td>\n",
       "      <td>1,559.456</td>\n",
       "      <td>796.671</td>\n",
       "      <td>1,559.456</td>\n",
       "      <td>238.758</td>\n",
       "      <td>0.890</td>\n",
       "      <td>0.923</td>\n",
       "      <td>0.955</td>\n",
       "      <td>0.066</td>\n",
       "      <td>0.033</td>\n",
       "      <td>0.039</td>\n",
       "      <td>0.039</td>\n",
       "      <td>0.127</td>\n",
       "      <td>0.105</td>\n",
       "    </tr>\n",
       "  </tbody>\n",
       "</table>\n",
       "</div>"
      ],
      "text/plain": [
       "        latest  three_wk_high  three_wk_low  three_m_high  three_m_low  \\\n",
       "TSLA 1,500.640      1,559.456     1,025.610     1,559.456      796.671   \n",
       "\n",
       "      one_yr_high  one_yr_low  three_wk_range  three_m_range  one_yr_range  \\\n",
       "TSLA    1,559.456     238.758           0.890          0.923         0.955   \n",
       "\n",
       "      short_term_stochastic  long_term_stochastic  st_potential  lt_potential  \\\n",
       "TSLA                  0.066                 0.033         0.039         0.039   \n",
       "\n",
       "      short_term_metric  long_term_metric  \n",
       "TSLA              0.127             0.105  "
      ]
     },
     "execution_count": 14,
     "metadata": {},
     "output_type": "execute_result"
    }
   ],
   "source": [
    "output.loc[[\"TSLA\"]]"
   ]
  },
  {
   "cell_type": "code",
   "execution_count": null,
   "metadata": {},
   "outputs": [],
   "source": [
    "longterm_portfolio.report()"
   ]
  },
  {
   "cell_type": "code",
   "execution_count": null,
   "metadata": {},
   "outputs": [],
   "source": [
    "longterm_portfolio.current_value()"
   ]
  },
  {
   "cell_type": "code",
   "execution_count": null,
   "metadata": {},
   "outputs": [],
   "source": [
    "longterm_portfolio.market_current_value()"
   ]
  },
  {
   "cell_type": "code",
   "execution_count": null,
   "metadata": {},
   "outputs": [],
   "source": [
    "shortterm_portfolio.current_value()"
   ]
  },
  {
   "cell_type": "code",
   "execution_count": null,
   "metadata": {},
   "outputs": [],
   "source": [
    "shortterm_portfolio.market_current_value()"
   ]
  },
  {
   "cell_type": "code",
   "execution_count": null,
   "metadata": {},
   "outputs": [],
   "source": [
    "# shortterm_portfolio.deposit(7174.44, datetime.date(2020, 6, 22))\n",
    "# shortterm_portfolio.buy(\"PKI\", 73, 7174.44, datetime.date(2020, 6, 22))\n",
    "# shortterm_portfolio.deposit(787.11, datetime.date(2020, 6, 23))\n",
    "# shortterm_portfolio.buy(\"ZBRA\", 3, 787.11, datetime.date(2020, 6, 23))\n",
    "# shortterm_portfolio.deposit(7535.5, datetime.date(2020, 6, 24))\n",
    "# shortterm_portfolio.buy(\"QRVO\", 70, 7535.5, datetime.date(2020, 6, 24))\n",
    "# shortterm_portfolio.deposit(5505.65, datetime.date(2020, 7, 2))\n",
    "# shortterm_portfolio.buy(\"DG\", 29, 5505.65, datetime.date(2020, 7, 2))\n",
    "# shortterm_portfolio.sell(\"PKI\", 73, 7311.52, datetime.date(2020, 7, 7))\n",
    "# shortterm_portfolio.buy(\"BLK\", 13, 7161.18, datetime.date(2020, 7, 7))\n",
    "# shortterm_portfolio.sell(\"ZBRA\", 3, 793, datetime.date(2020, 7, 14))\n",
    "# shortterm_portfolio.buy(\"DXCM\", 2, 780, datetime.date(2020, 7, 14))"
   ]
  },
  {
   "cell_type": "code",
   "execution_count": null,
   "metadata": {},
   "outputs": [],
   "source": [
    "# longterm_portfolio.deposit(2024.7, datetime.date(2020, 6, 22))\n",
    "# longterm_portfolio.buy(\"INTC\", 34, 2024.7, datetime.date(2020, 6, 22))\n",
    "# longterm_portfolio.deposit(4988.58, datetime.date(2020, 7, 8))\n",
    "# longterm_portfolio.buy(\"OKE\", 183, 4988.58, datetime.date(2020, 7, 8))\n",
    "# longterm_portfolio.deposit(5993.46, datetime.date(2020, 7, 16))\n",
    "# longterm_portfolio.buy(\"NLOK\", 297, 5993.46, datetime.date(2020, 7, 16))"
   ]
  },
  {
   "cell_type": "code",
   "execution_count": null,
   "metadata": {},
   "outputs": [],
   "source": [
    "shortterm_portfolio.save()\n",
    "longterm_portfolio.save()"
   ]
  },
  {
   "cell_type": "code",
   "execution_count": 3,
   "metadata": {},
   "outputs": [
    {
     "data": {
      "text/plain": [
       "1.7198681526142372"
      ]
     },
     "execution_count": 3,
     "metadata": {},
     "output_type": "execute_result"
    }
   ],
   "source": [
    "shortterm_portfolio.calc_rate_of_return()"
   ]
  },
  {
   "cell_type": "code",
   "execution_count": 4,
   "metadata": {},
   "outputs": [
    {
     "data": {
      "text/plain": [
       "1.944433730638401"
      ]
     },
     "execution_count": 4,
     "metadata": {},
     "output_type": "execute_result"
    }
   ],
   "source": [
    "shortterm_portfolio.calc_market_rate_of_return()"
   ]
  },
  {
   "cell_type": "code",
   "execution_count": null,
   "metadata": {},
   "outputs": [],
   "source": [
    "raw[\"^GSPC\"][datetime.date.today()]"
   ]
  },
  {
   "cell_type": "code",
   "execution_count": null,
   "metadata": {},
   "outputs": [],
   "source": [
    "raw"
   ]
  },
  {
   "cell_type": "code",
   "execution_count": null,
   "metadata": {},
   "outputs": [],
   "source": []
  }
 ],
 "metadata": {
  "kernelspec": {
   "display_name": "Python 3",
   "language": "python",
   "name": "python3"
  },
  "language_info": {
   "codemirror_mode": {
    "name": "ipython",
    "version": 3
   },
   "file_extension": ".py",
   "mimetype": "text/x-python",
   "name": "python",
   "nbconvert_exporter": "python",
   "pygments_lexer": "ipython3",
   "version": "3.7.6"
  }
 },
 "nbformat": 4,
 "nbformat_minor": 4
}
