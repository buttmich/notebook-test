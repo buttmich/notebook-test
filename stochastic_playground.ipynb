{
 "cells": [
  {
   "cell_type": "code",
   "execution_count": 1,
   "metadata": {},
   "outputs": [],
   "source": [
    "import pandas as pd\n",
    "import numpy as np\n",
    "import yfinance as yf\n",
    "import pytrade\n",
    "import matplotlib.pyplot as plt\n",
    "import datetime\n",
    "\n",
    "pd.options.display.float_format = '{:,.3f}'.format"
   ]
  },
  {
   "cell_type": "code",
   "execution_count": 2,
   "metadata": {
    "scrolled": true
   },
   "outputs": [
    {
     "name": "stdout",
     "output_type": "stream",
     "text": [
      "[*********************100%***********************]  537 of 537 completed\n",
      "Wall time: 1min 9s\n"
     ]
    },
    {
     "data": {
      "text/html": [
       "<div>\n",
       "<style scoped>\n",
       "    .dataframe tbody tr th:only-of-type {\n",
       "        vertical-align: middle;\n",
       "    }\n",
       "\n",
       "    .dataframe tbody tr th {\n",
       "        vertical-align: top;\n",
       "    }\n",
       "\n",
       "    .dataframe thead th {\n",
       "        text-align: right;\n",
       "    }\n",
       "</style>\n",
       "<table border=\"1\" class=\"dataframe\">\n",
       "  <thead>\n",
       "    <tr style=\"text-align: right;\">\n",
       "      <th></th>\n",
       "      <th>latest</th>\n",
       "      <th>three_wk_high</th>\n",
       "      <th>three_wk_low</th>\n",
       "      <th>three_m_high</th>\n",
       "      <th>three_m_low</th>\n",
       "      <th>one_yr_high</th>\n",
       "      <th>one_yr_low</th>\n",
       "      <th>three_wk_range</th>\n",
       "      <th>three_m_range</th>\n",
       "      <th>one_yr_range</th>\n",
       "      <th>short_term_stochastic</th>\n",
       "      <th>long_term_stochastic</th>\n",
       "      <th>st_potential</th>\n",
       "      <th>lt_potential</th>\n",
       "      <th>short_term_metric</th>\n",
       "      <th>long_term_metric</th>\n",
       "    </tr>\n",
       "  </thead>\n",
       "  <tbody>\n",
       "    <tr>\n",
       "      <th>NTES</th>\n",
       "      <td>450.280</td>\n",
       "      <td>493.439</td>\n",
       "      <td>448.722</td>\n",
       "      <td>493.439</td>\n",
       "      <td>368.893</td>\n",
       "      <td>493.439</td>\n",
       "      <td>229.545</td>\n",
       "      <td>0.035</td>\n",
       "      <td>0.653</td>\n",
       "      <td>0.836</td>\n",
       "      <td>0.802</td>\n",
       "      <td>0.183</td>\n",
       "      <td>0.096</td>\n",
       "      <td>0.096</td>\n",
       "      <td>1.000</td>\n",
       "      <td>0.409</td>\n",
       "    </tr>\n",
       "    <tr>\n",
       "      <th>BMRN</th>\n",
       "      <td>122.830</td>\n",
       "      <td>130.955</td>\n",
       "      <td>122.830</td>\n",
       "      <td>132.650</td>\n",
       "      <td>100.190</td>\n",
       "      <td>132.650</td>\n",
       "      <td>70.887</td>\n",
       "      <td>0.000</td>\n",
       "      <td>0.697</td>\n",
       "      <td>0.841</td>\n",
       "      <td>0.841</td>\n",
       "      <td>0.144</td>\n",
       "      <td>0.064</td>\n",
       "      <td>0.080</td>\n",
       "      <td>0.974</td>\n",
       "      <td>0.332</td>\n",
       "    </tr>\n",
       "    <tr>\n",
       "      <th>CMG</th>\n",
       "      <td>1,112.230</td>\n",
       "      <td>1,164.437</td>\n",
       "      <td>1,110.237</td>\n",
       "      <td>1,164.437</td>\n",
       "      <td>966.065</td>\n",
       "      <td>1,164.437</td>\n",
       "      <td>624.349</td>\n",
       "      <td>0.037</td>\n",
       "      <td>0.737</td>\n",
       "      <td>0.903</td>\n",
       "      <td>0.867</td>\n",
       "      <td>0.167</td>\n",
       "      <td>0.047</td>\n",
       "      <td>0.047</td>\n",
       "      <td>0.964</td>\n",
       "      <td>0.277</td>\n",
       "    </tr>\n",
       "    <tr>\n",
       "      <th>EA</th>\n",
       "      <td>134.780</td>\n",
       "      <td>142.287</td>\n",
       "      <td>134.640</td>\n",
       "      <td>142.287</td>\n",
       "      <td>118.994</td>\n",
       "      <td>142.287</td>\n",
       "      <td>94.603</td>\n",
       "      <td>0.018</td>\n",
       "      <td>0.678</td>\n",
       "      <td>0.843</td>\n",
       "      <td>0.824</td>\n",
       "      <td>0.165</td>\n",
       "      <td>0.056</td>\n",
       "      <td>0.056</td>\n",
       "      <td>0.939</td>\n",
       "      <td>0.296</td>\n",
       "    </tr>\n",
       "    <tr>\n",
       "      <th>MCO</th>\n",
       "      <td>282.660</td>\n",
       "      <td>300.488</td>\n",
       "      <td>282.660</td>\n",
       "      <td>300.488</td>\n",
       "      <td>268.946</td>\n",
       "      <td>300.488</td>\n",
       "      <td>212.761</td>\n",
       "      <td>0.000</td>\n",
       "      <td>0.435</td>\n",
       "      <td>0.797</td>\n",
       "      <td>0.797</td>\n",
       "      <td>0.362</td>\n",
       "      <td>0.063</td>\n",
       "      <td>0.063</td>\n",
       "      <td>0.927</td>\n",
       "      <td>0.511</td>\n",
       "    </tr>\n",
       "    <tr>\n",
       "      <th>...</th>\n",
       "      <td>...</td>\n",
       "      <td>...</td>\n",
       "      <td>...</td>\n",
       "      <td>...</td>\n",
       "      <td>...</td>\n",
       "      <td>...</td>\n",
       "      <td>...</td>\n",
       "      <td>...</td>\n",
       "      <td>...</td>\n",
       "      <td>...</td>\n",
       "      <td>...</td>\n",
       "      <td>...</td>\n",
       "      <td>...</td>\n",
       "      <td>...</td>\n",
       "      <td>...</td>\n",
       "      <td>...</td>\n",
       "    </tr>\n",
       "    <tr>\n",
       "      <th>PVH</th>\n",
       "      <td>50.710</td>\n",
       "      <td>51.306</td>\n",
       "      <td>43.405</td>\n",
       "      <td>69.160</td>\n",
       "      <td>43.405</td>\n",
       "      <td>107.703</td>\n",
       "      <td>40.078</td>\n",
       "      <td>0.925</td>\n",
       "      <td>0.284</td>\n",
       "      <td>0.157</td>\n",
       "      <td>-0.767</td>\n",
       "      <td>-0.126</td>\n",
       "      <td>-0.135</td>\n",
       "      <td>-0.104</td>\n",
       "      <td>-1.048</td>\n",
       "      <td>-0.371</td>\n",
       "    </tr>\n",
       "    <tr>\n",
       "      <th>UHS</th>\n",
       "      <td>109.070</td>\n",
       "      <td>109.070</td>\n",
       "      <td>90.476</td>\n",
       "      <td>121.018</td>\n",
       "      <td>90.476</td>\n",
       "      <td>167.335</td>\n",
       "      <td>90.476</td>\n",
       "      <td>1.000</td>\n",
       "      <td>0.609</td>\n",
       "      <td>0.242</td>\n",
       "      <td>-0.758</td>\n",
       "      <td>-0.367</td>\n",
       "      <td>-0.170</td>\n",
       "      <td>-0.170</td>\n",
       "      <td>-1.111</td>\n",
       "      <td>-0.770</td>\n",
       "    </tr>\n",
       "    <tr>\n",
       "      <th>UA</th>\n",
       "      <td>10.030</td>\n",
       "      <td>10.030</td>\n",
       "      <td>8.465</td>\n",
       "      <td>10.835</td>\n",
       "      <td>7.766</td>\n",
       "      <td>25.984</td>\n",
       "      <td>7.766</td>\n",
       "      <td>1.000</td>\n",
       "      <td>0.738</td>\n",
       "      <td>0.124</td>\n",
       "      <td>-0.876</td>\n",
       "      <td>-0.613</td>\n",
       "      <td>-0.150</td>\n",
       "      <td>-0.226</td>\n",
       "      <td>-1.185</td>\n",
       "      <td>-1.147</td>\n",
       "    </tr>\n",
       "    <tr>\n",
       "      <th>UAA</th>\n",
       "      <td>11.300</td>\n",
       "      <td>11.300</td>\n",
       "      <td>9.373</td>\n",
       "      <td>12.173</td>\n",
       "      <td>8.600</td>\n",
       "      <td>29.234</td>\n",
       "      <td>8.600</td>\n",
       "      <td>1.000</td>\n",
       "      <td>0.756</td>\n",
       "      <td>0.131</td>\n",
       "      <td>-0.869</td>\n",
       "      <td>-0.625</td>\n",
       "      <td>-0.163</td>\n",
       "      <td>-0.239</td>\n",
       "      <td>-1.207</td>\n",
       "      <td>-1.189</td>\n",
       "    </tr>\n",
       "    <tr>\n",
       "      <th>^GSPC</th>\n",
       "      <td>3,218.440</td>\n",
       "      <td>3,218.440</td>\n",
       "      <td>3,218.440</td>\n",
       "      <td>3,218.440</td>\n",
       "      <td>3,218.440</td>\n",
       "      <td>3,218.440</td>\n",
       "      <td>3,218.440</td>\n",
       "      <td>nan</td>\n",
       "      <td>nan</td>\n",
       "      <td>nan</td>\n",
       "      <td>nan</td>\n",
       "      <td>nan</td>\n",
       "      <td>nan</td>\n",
       "      <td>nan</td>\n",
       "      <td>nan</td>\n",
       "      <td>nan</td>\n",
       "    </tr>\n",
       "  </tbody>\n",
       "</table>\n",
       "<p>537 rows × 16 columns</p>\n",
       "</div>"
      ],
      "text/plain": [
       "         latest  three_wk_high  three_wk_low  three_m_high  three_m_low  \\\n",
       "NTES    450.280        493.439       448.722       493.439      368.893   \n",
       "BMRN    122.830        130.955       122.830       132.650      100.190   \n",
       "CMG   1,112.230      1,164.437     1,110.237     1,164.437      966.065   \n",
       "EA      134.780        142.287       134.640       142.287      118.994   \n",
       "MCO     282.660        300.488       282.660       300.488      268.946   \n",
       "...         ...            ...           ...           ...          ...   \n",
       "PVH      50.710         51.306        43.405        69.160       43.405   \n",
       "UHS     109.070        109.070        90.476       121.018       90.476   \n",
       "UA       10.030         10.030         8.465        10.835        7.766   \n",
       "UAA      11.300         11.300         9.373        12.173        8.600   \n",
       "^GSPC 3,218.440      3,218.440     3,218.440     3,218.440    3,218.440   \n",
       "\n",
       "       one_yr_high  one_yr_low  three_wk_range  three_m_range  one_yr_range  \\\n",
       "NTES       493.439     229.545           0.035          0.653         0.836   \n",
       "BMRN       132.650      70.887           0.000          0.697         0.841   \n",
       "CMG      1,164.437     624.349           0.037          0.737         0.903   \n",
       "EA         142.287      94.603           0.018          0.678         0.843   \n",
       "MCO        300.488     212.761           0.000          0.435         0.797   \n",
       "...            ...         ...             ...            ...           ...   \n",
       "PVH        107.703      40.078           0.925          0.284         0.157   \n",
       "UHS        167.335      90.476           1.000          0.609         0.242   \n",
       "UA          25.984       7.766           1.000          0.738         0.124   \n",
       "UAA         29.234       8.600           1.000          0.756         0.131   \n",
       "^GSPC    3,218.440   3,218.440             nan            nan           nan   \n",
       "\n",
       "       short_term_stochastic  long_term_stochastic  st_potential  \\\n",
       "NTES                   0.802                 0.183         0.096   \n",
       "BMRN                   0.841                 0.144         0.064   \n",
       "CMG                    0.867                 0.167         0.047   \n",
       "EA                     0.824                 0.165         0.056   \n",
       "MCO                    0.797                 0.362         0.063   \n",
       "...                      ...                   ...           ...   \n",
       "PVH                   -0.767                -0.126        -0.135   \n",
       "UHS                   -0.758                -0.367        -0.170   \n",
       "UA                    -0.876                -0.613        -0.150   \n",
       "UAA                   -0.869                -0.625        -0.163   \n",
       "^GSPC                    nan                   nan           nan   \n",
       "\n",
       "       lt_potential  short_term_metric  long_term_metric  \n",
       "NTES          0.096              1.000             0.409  \n",
       "BMRN          0.080              0.974             0.332  \n",
       "CMG           0.047              0.964             0.277  \n",
       "EA            0.056              0.939             0.296  \n",
       "MCO           0.063              0.927             0.511  \n",
       "...             ...                ...               ...  \n",
       "PVH          -0.104             -1.048            -0.371  \n",
       "UHS          -0.170             -1.111            -0.770  \n",
       "UA           -0.226             -1.185            -1.147  \n",
       "UAA          -0.239             -1.207            -1.189  \n",
       "^GSPC           nan                nan               nan  \n",
       "\n",
       "[537 rows x 16 columns]"
      ]
     },
     "execution_count": 2,
     "metadata": {},
     "output_type": "execute_result"
    }
   ],
   "source": [
    "%%time\n",
    "raw = pytrade.get_data(reload = True)\n",
    "ratios = pytrade.calculate_ratio(raw[\"Adj Close\"])\n",
    "output = pytrade.analysis_1.run(ratios)\n",
    "output.sort_values(by=\"short_term_metric\",ascending=False,inplace=True)\n",
    "my_shortterm = output.loc[[\"SGEN\",\"DXCM\",\"BMRN\",\"JD\",\"MSFT\"]]\n",
    "my_longterm = output.loc[[\"AMGN\",\"AAPL\",\"UNH\",\"BMY\",\"NLOK\",\"OKE\",\"INTC\",\"KLAC\",\"REGN\"]]\n",
    "shortterm_portfolio = pytrade.Portfolio(\"st_portfolio\", raw)\n",
    "longterm_portfolio = pytrade.Portfolio.load(\"lt_portfolio\", raw)\n",
    "output"
   ]
  },
  {
   "cell_type": "code",
   "execution_count": null,
   "metadata": {
    "scrolled": true
   },
   "outputs": [],
   "source": [
    "output.sort_values(by=\"long_term_metric\",ascending=False,inplace=True)\n",
    "output"
   ]
  },
  {
   "cell_type": "code",
   "execution_count": null,
   "metadata": {},
   "outputs": [],
   "source": [
    "my_longterm"
   ]
  },
  {
   "cell_type": "code",
   "execution_count": null,
   "metadata": {
    "scrolled": true
   },
   "outputs": [],
   "source": [
    "my_shortterm"
   ]
  },
  {
   "cell_type": "code",
   "execution_count": null,
   "metadata": {},
   "outputs": [],
   "source": [
    "plt.close('all')\n",
    "ratios[\"HUM\"].tail(200).plot()"
   ]
  },
  {
   "cell_type": "code",
   "execution_count": null,
   "metadata": {},
   "outputs": [],
   "source": [
    "longterm_portfolio.report()"
   ]
  },
  {
   "cell_type": "code",
   "execution_count": null,
   "metadata": {},
   "outputs": [],
   "source": [
    "longterm_portfolio.market_current_value()"
   ]
  },
  {
   "cell_type": "code",
   "execution_count": null,
   "metadata": {},
   "outputs": [],
   "source": [
    "shortterm_portfolio.report()"
   ]
  },
  {
   "cell_type": "code",
   "execution_count": null,
   "metadata": {},
   "outputs": [],
   "source": [
    "shortterm_portfolio.market_current_value()"
   ]
  },
  {
   "cell_type": "code",
   "execution_count": null,
   "metadata": {},
   "outputs": [],
   "source": [
    "# shortterm_portfolio.deposit(7174.44, datetime.date(2020, 6, 22))\n",
    "# shortterm_portfolio.buy(\"PKI\", 73, 7174.44, datetime.date(2020, 6, 22))\n",
    "# shortterm_portfolio.deposit(787.11, datetime.date(2020, 6, 23))\n",
    "# shortterm_portfolio.buy(\"ZBRA\", 3, 787.11, datetime.date(2020, 6, 23))\n",
    "# shortterm_portfolio.deposit(7535.5, datetime.date(2020, 6, 24))\n",
    "# shortterm_portfolio.buy(\"QRVO\", 70, 7535.5, datetime.date(2020, 6, 24))\n",
    "# shortterm_portfolio.deposit(5505.65, datetime.date(2020, 7, 2))\n",
    "# shortterm_portfolio.buy(\"DG\", 29, 5505.65, datetime.date(2020, 7, 2))\n",
    "# shortterm_portfolio.sell(\"PKI\", 73, 7311.52, datetime.date(2020, 7, 7))\n",
    "# shortterm_portfolio.buy(\"BLK\", 13, 7161.18, datetime.date(2020, 7, 7))\n",
    "# shortterm_portfolio.sell(\"ZBRA\", 3, 793, datetime.date(2020, 7, 14))\n",
    "# shortterm_portfolio.buy(\"DXCM\", 2, 780, datetime.date(2020, 7, 14))\n",
    "# shortterm_portfolio.sell(\"BLK\", 13, 7623.66, datetime.date(2020, 7, 17))\n",
    "# shortterm_portfolio.buy(\"MELI\", 8, 7560.4, datetime.date(2020, 7, 17))\n",
    "# shortterm_portfolio.deposit(4117.35, datetime.date(2020, 7, 20))\n",
    "# shortterm_portfolio.buy(\"JD\", 69, 4343.95, datetime.date(2020, 7, 20))\n",
    "# shortterm_portfolio.sell(\"QRVO\", 70, 8273.12, datetime.date(2020, 7, 21))\n",
    "\n",
    "# shortterm_portfolio.deposit(280.48, datetime.date(2020, 7, 21))\n",
    "# shortterm_portfolio.buy(\"JD\", 135, 8553.6, datetime.date(2020, 7, 21))\n",
    "# shortterm_portfolio.deposit(1235.4, datetime.date(2020, 7, 22))\n",
    "# shortterm_portfolio.buy(\"JD\", 20, 1235.4, datetime.date(2020, 7, 22))\n",
    "# shortterm_portfolio.sell(\"DG\", 29, 5591.66, datetime.date(2020, 7, 24))\n",
    "# shortterm_portfolio.buy(\"SGEN\", 33, 5566.44, datetime.date(2020, 7, 24))\n",
    "# shortterm_portfolio.sell(\"MELI\", 8, 8563.01, datetime.date(2020, 7, 27))\n",
    "# shortterm_portfolio.deposit(22.47, datetime.date(2020, 7, 28))\n",
    "# shortterm_portfolio.buy(\"BMRN\", 70, 8610.7, datetime.date(2020, 7, 28))"
   ]
  },
  {
   "cell_type": "code",
   "execution_count": null,
   "metadata": {},
   "outputs": [],
   "source": [
    "# longterm_portfolio.deposit(2024.7, datetime.date(2020, 6, 22))\n",
    "# longterm_portfolio.buy(\"INTC\", 34, 2024.7, datetime.date(2020, 6, 22))\n",
    "# longterm_portfolio.deposit(4988.58, datetime.date(2020, 7, 8))\n",
    "# longterm_portfolio.buy(\"OKE\", 183, 4988.58, datetime.date(2020, 7, 8))\n",
    "# longterm_portfolio.deposit(5993.46, datetime.date(2020, 7, 16))\n",
    "# longterm_portfolio.buy(\"NLOK\", 297, 5993.46, datetime.date(2020, 7, 16))\n",
    "# longterm_portfolio.deposit(7486.72, datetime.date(2020, 7, 27))\n",
    "# longterm_portfolio.buy(\"BMY\", 128, 7486.72, datetime.date(2020, 7, 27))"
   ]
  },
  {
   "cell_type": "code",
   "execution_count": null,
   "metadata": {},
   "outputs": [],
   "source": [
    "print(shortterm_portfolio.calc_rate_of_return())\n",
    "print(shortterm_portfolio.calc_market_rate_of_return())\n",
    "print(longterm_portfolio.calc_rate_of_return())\n",
    "print(longterm_portfolio.calc_market_rate_of_return())"
   ]
  },
  {
   "cell_type": "code",
   "execution_count": null,
   "metadata": {},
   "outputs": [],
   "source": [
    "shortterm_portfolio.save()\n",
    "longterm_portfolio.save()"
   ]
  },
  {
   "cell_type": "code",
   "execution_count": null,
   "metadata": {},
   "outputs": [],
   "source": [
    "df_dividends = {}"
   ]
  },
  {
   "cell_type": "code",
   "execution_count": null,
   "metadata": {},
   "outputs": [],
   "source": [
    "f = open(\"./ticker.csv\", \"r\")\n",
    "tickers = f.read().split(\",\")"
   ]
  },
  {
   "cell_type": "code",
   "execution_count": null,
   "metadata": {},
   "outputs": [],
   "source": [
    "%%time\n",
    "f = open(\"./ticker.csv\", \"r\")\n",
    "tickers = f.read().split(\",\")\n",
    "for t in tickers:\n",
    "    stock = yf.Ticker(t)\n",
    "    df_dividends[t] = stock.get_dividends()"
   ]
  },
  {
   "cell_type": "code",
   "execution_count": null,
   "metadata": {},
   "outputs": [],
   "source": [
    "stock = yf.Ticker(\"MSFT\")"
   ]
  },
  {
   "cell_type": "code",
   "execution_count": null,
   "metadata": {},
   "outputs": [],
   "source": [
    "df_dividends"
   ]
  },
  {
   "cell_type": "code",
   "execution_count": null,
   "metadata": {},
   "outputs": [],
   "source": [
    "stock = yf.download(\"AAPL\")"
   ]
  },
  {
   "cell_type": "code",
   "execution_count": null,
   "metadata": {},
   "outputs": [],
   "source": [
    "stock[\"Adj Close\"][datetime.date(2014, 6, 5)]"
   ]
  },
  {
   "cell_type": "code",
   "execution_count": null,
   "metadata": {},
   "outputs": [],
   "source": [
    "stock[\"Adj Close\"][datetime.date.today()]"
   ]
  },
  {
   "cell_type": "code",
   "execution_count": null,
   "metadata": {},
   "outputs": [],
   "source": [
    "a = yf.Ticker(\"AAPL\")"
   ]
  },
  {
   "cell_type": "code",
   "execution_count": null,
   "metadata": {},
   "outputs": [],
   "source": [
    "a.get_splits()"
   ]
  },
  {
   "cell_type": "code",
   "execution_count": null,
   "metadata": {},
   "outputs": [],
   "source": [
    "8273.12-8553.6"
   ]
  },
  {
   "cell_type": "code",
   "execution_count": null,
   "metadata": {},
   "outputs": [],
   "source": [
    "raw[\"DG\"][datetime.date(2020, 7, 6)]"
   ]
  },
  {
   "cell_type": "code",
   "execution_count": null,
   "metadata": {},
   "outputs": [],
   "source": [
    "raw.index.date == datetime.date(2020, 7, 6)"
   ]
  },
  {
   "cell_type": "code",
   "execution_count": 4,
   "metadata": {},
   "outputs": [
    {
     "data": {
      "text/plain": [
       "189.47999572753906"
      ]
     },
     "execution_count": 4,
     "metadata": {},
     "output_type": "execute_result"
    }
   ],
   "source": [
    "raw[\"Close\"][\"DG\"][raw.index.get_loc(datetime.date(2020, 7, 6))-1]"
   ]
  },
  {
   "cell_type": "code",
   "execution_count": null,
   "metadata": {},
   "outputs": [],
   "source": [
    "raw.Index"
   ]
  },
  {
   "cell_type": "code",
   "execution_count": null,
   "metadata": {},
   "outputs": [],
   "source": [
    "f = open(\"./ticker.csv\", \"r\")\n",
    "tickers = f.read().split(\",\")\n",
    "df = yf.download(\" \".join(tickers), period=\"2y\")"
   ]
  },
  {
   "cell_type": "code",
   "execution_count": null,
   "metadata": {},
   "outputs": [],
   "source": [
    "a=df[[\"Adj Close\", \"Close\"]]"
   ]
  },
  {
   "cell_type": "code",
   "execution_count": 7,
   "metadata": {},
   "outputs": [
    {
     "data": {
      "text/plain": [
       "487"
      ]
     },
     "execution_count": 7,
     "metadata": {},
     "output_type": "execute_result"
    }
   ],
   "source": [
    "raw[\"Close\"].index.get_loc(datetime.date(2020, 7, 6))"
   ]
  },
  {
   "cell_type": "code",
   "execution_count": 9,
   "metadata": {},
   "outputs": [
    {
     "data": {
      "text/plain": [
       "DatetimeIndex(['2018-07-30', '2018-07-31', '2018-08-01', '2018-08-02',\n",
       "               '2018-08-03', '2018-08-06', '2018-08-07', '2018-08-08',\n",
       "               '2018-08-09', '2018-08-10',\n",
       "               ...\n",
       "               '2020-07-15', '2020-07-16', '2020-07-17', '2020-07-20',\n",
       "               '2020-07-21', '2020-07-22', '2020-07-23', '2020-07-24',\n",
       "               '2020-07-27', '2020-07-28'],\n",
       "              dtype='datetime64[ns]', name='Date', length=504, freq=None)"
      ]
     },
     "execution_count": 9,
     "metadata": {},
     "output_type": "execute_result"
    }
   ],
   "source": [
    "raw.index"
   ]
  },
  {
   "cell_type": "code",
   "execution_count": 11,
   "metadata": {},
   "outputs": [],
   "source": [
    "total_dividend = 10.44\n",
    "num_shares = 29\n",
    "ticker = \"DG\"\n",
    "dividend_per_share = total_dividend / num_shares\n",
    "pre_dividend_close = raw[\"Close\"][ticker][raw.index.get_loc(datetime.date(2020, 7, 6))-1]\n",
    "adj_factor = 1 - dividend_per_share / pre_dividend_close"
   ]
  },
  {
   "cell_type": "code",
   "execution_count": 13,
   "metadata": {},
   "outputs": [
    {
     "data": {
      "text/plain": [
       "189.11999572753905"
      ]
     },
     "execution_count": 13,
     "metadata": {},
     "output_type": "execute_result"
    }
   ],
   "source": [
    "adj_factor*pre_dividend_close"
   ]
  },
  {
   "cell_type": "code",
   "execution_count": 20,
   "metadata": {},
   "outputs": [
    {
     "data": {
      "text/plain": [
       "191.77494616846104"
      ]
     },
     "execution_count": 20,
     "metadata": {},
     "output_type": "execute_result"
    }
   ],
   "source": [
    "(1-.36/189.48)*192.14"
   ]
  },
  {
   "cell_type": "code",
   "execution_count": 17,
   "metadata": {},
   "outputs": [
    {
     "data": {
      "text/plain": [
       "0.014660005160321817"
      ]
     },
     "execution_count": 17,
     "metadata": {},
     "output_type": "execute_result"
    }
   ],
   "source": []
  },
  {
   "cell_type": "code",
   "execution_count": null,
   "metadata": {},
   "outputs": [],
   "source": []
  }
 ],
 "metadata": {
  "kernelspec": {
   "display_name": "Python 3",
   "language": "python",
   "name": "python3"
  },
  "language_info": {
   "codemirror_mode": {
    "name": "ipython",
    "version": 3
   },
   "file_extension": ".py",
   "mimetype": "text/x-python",
   "name": "python",
   "nbconvert_exporter": "python",
   "pygments_lexer": "ipython3",
   "version": "3.7.6"
  }
 },
 "nbformat": 4,
 "nbformat_minor": 4
}
