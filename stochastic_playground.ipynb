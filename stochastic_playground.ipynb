{
 "cells": [
  {
   "cell_type": "code",
   "execution_count": 5,
   "metadata": {},
   "outputs": [],
   "source": [
    "import pandas as pd\n",
    "import datetime\n",
    "import numpy as np\n",
    "import yfinance as yf\n",
    "import pytrade\n",
    "import matplotlib.pyplot as plt\n",
    "\n",
    "pd.options.display.float_format = '{:,.3f}'.format?"
   ]
  },
  {
   "cell_type": "code",
   "execution_count": 6,
   "metadata": {
    "scrolled": true
   },
   "outputs": [
    {
     "name": "stdout",
     "output_type": "stream",
     "text": [
      "Wall time: 58 ms\n"
     ]
    },
    {
     "data": {
      "text/html": [
       "<div>\n",
       "<style scoped>\n",
       "    .dataframe tbody tr th:only-of-type {\n",
       "        vertical-align: middle;\n",
       "    }\n",
       "\n",
       "    .dataframe tbody tr th {\n",
       "        vertical-align: top;\n",
       "    }\n",
       "\n",
       "    .dataframe thead th {\n",
       "        text-align: right;\n",
       "    }\n",
       "</style>\n",
       "<table border=\"1\" class=\"dataframe\">\n",
       "  <thead>\n",
       "    <tr style=\"text-align: right;\">\n",
       "      <th></th>\n",
       "      <th>latest</th>\n",
       "      <th>three_wk_high</th>\n",
       "      <th>three_wk_low</th>\n",
       "      <th>three_m_high</th>\n",
       "      <th>three_m_low</th>\n",
       "      <th>one_yr_high</th>\n",
       "      <th>one_yr_low</th>\n",
       "      <th>three_wk_range</th>\n",
       "      <th>three_m_range</th>\n",
       "      <th>one_yr_range</th>\n",
       "      <th>short_term_stochastic</th>\n",
       "      <th>long_term_stochastic</th>\n",
       "      <th>st_potential</th>\n",
       "      <th>lt_potential</th>\n",
       "      <th>short_term_metric</th>\n",
       "      <th>long_term_metric</th>\n",
       "    </tr>\n",
       "  </thead>\n",
       "  <tbody>\n",
       "    <tr>\n",
       "      <th>MELI</th>\n",
       "      <td>972.630</td>\n",
       "      <td>1,039.889</td>\n",
       "      <td>972.630</td>\n",
       "      <td>1,039.889</td>\n",
       "      <td>631.424</td>\n",
       "      <td>1,039.889</td>\n",
       "      <td>501.902</td>\n",
       "      <td>0.000</td>\n",
       "      <td>0.835</td>\n",
       "      <td>0.875</td>\n",
       "      <td>0.875</td>\n",
       "      <td>0.040</td>\n",
       "      <td>0.069</td>\n",
       "      <td>0.069</td>\n",
       "      <td>1.000</td>\n",
       "      <td>0.161</td>\n",
       "    </tr>\n",
       "    <tr>\n",
       "      <th>PYPL</th>\n",
       "      <td>172.300</td>\n",
       "      <td>185.873</td>\n",
       "      <td>172.300</td>\n",
       "      <td>185.873</td>\n",
       "      <td>123.342</td>\n",
       "      <td>185.873</td>\n",
       "      <td>102.848</td>\n",
       "      <td>0.000</td>\n",
       "      <td>0.783</td>\n",
       "      <td>0.837</td>\n",
       "      <td>0.837</td>\n",
       "      <td>0.054</td>\n",
       "      <td>0.079</td>\n",
       "      <td>0.079</td>\n",
       "      <td>0.979</td>\n",
       "      <td>0.192</td>\n",
       "    </tr>\n",
       "    <tr>\n",
       "      <th>ADSK</th>\n",
       "      <td>234.600</td>\n",
       "      <td>251.780</td>\n",
       "      <td>234.600</td>\n",
       "      <td>251.780</td>\n",
       "      <td>193.487</td>\n",
       "      <td>251.780</td>\n",
       "      <td>149.492</td>\n",
       "      <td>0.000</td>\n",
       "      <td>0.705</td>\n",
       "      <td>0.832</td>\n",
       "      <td>0.832</td>\n",
       "      <td>0.127</td>\n",
       "      <td>0.073</td>\n",
       "      <td>0.073</td>\n",
       "      <td>0.964</td>\n",
       "      <td>0.256</td>\n",
       "    </tr>\n",
       "    <tr>\n",
       "      <th>ADBE</th>\n",
       "      <td>433.780</td>\n",
       "      <td>468.027</td>\n",
       "      <td>433.780</td>\n",
       "      <td>468.027</td>\n",
       "      <td>372.360</td>\n",
       "      <td>468.027</td>\n",
       "      <td>278.106</td>\n",
       "      <td>0.000</td>\n",
       "      <td>0.642</td>\n",
       "      <td>0.820</td>\n",
       "      <td>0.820</td>\n",
       "      <td>0.178</td>\n",
       "      <td>0.079</td>\n",
       "      <td>0.079</td>\n",
       "      <td>0.962</td>\n",
       "      <td>0.317</td>\n",
       "    </tr>\n",
       "    <tr>\n",
       "      <th>AVGO</th>\n",
       "      <td>315.080</td>\n",
       "      <td>326.664</td>\n",
       "      <td>315.080</td>\n",
       "      <td>326.664</td>\n",
       "      <td>286.415</td>\n",
       "      <td>326.664</td>\n",
       "      <td>217.845</td>\n",
       "      <td>0.000</td>\n",
       "      <td>0.712</td>\n",
       "      <td>0.894</td>\n",
       "      <td>0.894</td>\n",
       "      <td>0.181</td>\n",
       "      <td>0.037</td>\n",
       "      <td>0.037</td>\n",
       "      <td>0.960</td>\n",
       "      <td>0.246</td>\n",
       "    </tr>\n",
       "    <tr>\n",
       "      <th>...</th>\n",
       "      <td>...</td>\n",
       "      <td>...</td>\n",
       "      <td>...</td>\n",
       "      <td>...</td>\n",
       "      <td>...</td>\n",
       "      <td>...</td>\n",
       "      <td>...</td>\n",
       "      <td>...</td>\n",
       "      <td>...</td>\n",
       "      <td>...</td>\n",
       "      <td>...</td>\n",
       "      <td>...</td>\n",
       "      <td>...</td>\n",
       "      <td>...</td>\n",
       "      <td>...</td>\n",
       "      <td>...</td>\n",
       "    </tr>\n",
       "    <tr>\n",
       "      <th>BRK-A</th>\n",
       "      <td>284,780.000</td>\n",
       "      <td>284,780.000</td>\n",
       "      <td>272,657.292</td>\n",
       "      <td>325,971.585</td>\n",
       "      <td>272,657.292</td>\n",
       "      <td>359,131.903</td>\n",
       "      <td>272,657.292</td>\n",
       "      <td>1.000</td>\n",
       "      <td>0.227</td>\n",
       "      <td>0.140</td>\n",
       "      <td>-0.860</td>\n",
       "      <td>-0.087</td>\n",
       "      <td>-0.043</td>\n",
       "      <td>-0.043</td>\n",
       "      <td>-0.937</td>\n",
       "      <td>-0.162</td>\n",
       "    </tr>\n",
       "    <tr>\n",
       "      <th>AEE</th>\n",
       "      <td>76.570</td>\n",
       "      <td>76.573</td>\n",
       "      <td>71.348</td>\n",
       "      <td>87.677</td>\n",
       "      <td>71.348</td>\n",
       "      <td>100.884</td>\n",
       "      <td>71.348</td>\n",
       "      <td>0.999</td>\n",
       "      <td>0.320</td>\n",
       "      <td>0.177</td>\n",
       "      <td>-0.823</td>\n",
       "      <td>-0.143</td>\n",
       "      <td>-0.068</td>\n",
       "      <td>-0.068</td>\n",
       "      <td>-0.946</td>\n",
       "      <td>-0.263</td>\n",
       "    </tr>\n",
       "    <tr>\n",
       "      <th>WRK</th>\n",
       "      <td>29.150</td>\n",
       "      <td>29.150</td>\n",
       "      <td>26.598</td>\n",
       "      <td>36.841</td>\n",
       "      <td>26.598</td>\n",
       "      <td>42.001</td>\n",
       "      <td>26.598</td>\n",
       "      <td>1.000</td>\n",
       "      <td>0.249</td>\n",
       "      <td>0.166</td>\n",
       "      <td>-0.834</td>\n",
       "      <td>-0.083</td>\n",
       "      <td>-0.088</td>\n",
       "      <td>-0.088</td>\n",
       "      <td>-0.993</td>\n",
       "      <td>-0.238</td>\n",
       "    </tr>\n",
       "    <tr>\n",
       "      <th>L</th>\n",
       "      <td>35.520</td>\n",
       "      <td>35.520</td>\n",
       "      <td>33.293</td>\n",
       "      <td>41.958</td>\n",
       "      <td>32.544</td>\n",
       "      <td>58.200</td>\n",
       "      <td>32.544</td>\n",
       "      <td>1.000</td>\n",
       "      <td>0.316</td>\n",
       "      <td>0.116</td>\n",
       "      <td>-0.884</td>\n",
       "      <td>-0.200</td>\n",
       "      <td>-0.061</td>\n",
       "      <td>-0.084</td>\n",
       "      <td>-0.994</td>\n",
       "      <td>-0.348</td>\n",
       "    </tr>\n",
       "    <tr>\n",
       "      <th>^GSPC</th>\n",
       "      <td>3,197.520</td>\n",
       "      <td>3,197.520</td>\n",
       "      <td>3,197.520</td>\n",
       "      <td>3,197.520</td>\n",
       "      <td>3,197.520</td>\n",
       "      <td>3,197.520</td>\n",
       "      <td>3,197.520</td>\n",
       "      <td>nan</td>\n",
       "      <td>nan</td>\n",
       "      <td>nan</td>\n",
       "      <td>nan</td>\n",
       "      <td>nan</td>\n",
       "      <td>nan</td>\n",
       "      <td>nan</td>\n",
       "      <td>nan</td>\n",
       "      <td>nan</td>\n",
       "    </tr>\n",
       "  </tbody>\n",
       "</table>\n",
       "<p>537 rows × 16 columns</p>\n",
       "</div>"
      ],
      "text/plain": [
       "           latest  three_wk_high  three_wk_low  three_m_high  three_m_low  \\\n",
       "MELI      972.630      1,039.889       972.630     1,039.889      631.424   \n",
       "PYPL      172.300        185.873       172.300       185.873      123.342   \n",
       "ADSK      234.600        251.780       234.600       251.780      193.487   \n",
       "ADBE      433.780        468.027       433.780       468.027      372.360   \n",
       "AVGO      315.080        326.664       315.080       326.664      286.415   \n",
       "...           ...            ...           ...           ...          ...   \n",
       "BRK-A 284,780.000    284,780.000   272,657.292   325,971.585  272,657.292   \n",
       "AEE        76.570         76.573        71.348        87.677       71.348   \n",
       "WRK        29.150         29.150        26.598        36.841       26.598   \n",
       "L          35.520         35.520        33.293        41.958       32.544   \n",
       "^GSPC   3,197.520      3,197.520     3,197.520     3,197.520    3,197.520   \n",
       "\n",
       "       one_yr_high  one_yr_low  three_wk_range  three_m_range  one_yr_range  \\\n",
       "MELI     1,039.889     501.902           0.000          0.835         0.875   \n",
       "PYPL       185.873     102.848           0.000          0.783         0.837   \n",
       "ADSK       251.780     149.492           0.000          0.705         0.832   \n",
       "ADBE       468.027     278.106           0.000          0.642         0.820   \n",
       "AVGO       326.664     217.845           0.000          0.712         0.894   \n",
       "...            ...         ...             ...            ...           ...   \n",
       "BRK-A  359,131.903 272,657.292           1.000          0.227         0.140   \n",
       "AEE        100.884      71.348           0.999          0.320         0.177   \n",
       "WRK         42.001      26.598           1.000          0.249         0.166   \n",
       "L           58.200      32.544           1.000          0.316         0.116   \n",
       "^GSPC    3,197.520   3,197.520             nan            nan           nan   \n",
       "\n",
       "       short_term_stochastic  long_term_stochastic  st_potential  \\\n",
       "MELI                   0.875                 0.040         0.069   \n",
       "PYPL                   0.837                 0.054         0.079   \n",
       "ADSK                   0.832                 0.127         0.073   \n",
       "ADBE                   0.820                 0.178         0.079   \n",
       "AVGO                   0.894                 0.181         0.037   \n",
       "...                      ...                   ...           ...   \n",
       "BRK-A                 -0.860                -0.087        -0.043   \n",
       "AEE                   -0.823                -0.143        -0.068   \n",
       "WRK                   -0.834                -0.083        -0.088   \n",
       "L                     -0.884                -0.200        -0.061   \n",
       "^GSPC                    nan                   nan           nan   \n",
       "\n",
       "       lt_potential  short_term_metric  long_term_metric  \n",
       "MELI          0.069              1.000             0.161  \n",
       "PYPL          0.079              0.979             0.192  \n",
       "ADSK          0.073              0.964             0.256  \n",
       "ADBE          0.079              0.962             0.317  \n",
       "AVGO          0.037              0.960             0.246  \n",
       "...             ...                ...               ...  \n",
       "BRK-A        -0.043             -0.937            -0.162  \n",
       "AEE          -0.068             -0.946            -0.263  \n",
       "WRK          -0.088             -0.993            -0.238  \n",
       "L            -0.084             -0.994            -0.348  \n",
       "^GSPC           nan                nan               nan  \n",
       "\n",
       "[537 rows x 16 columns]"
      ]
     },
     "execution_count": 6,
     "metadata": {},
     "output_type": "execute_result"
    }
   ],
   "source": [
    "%%time\n",
    "raw = pytrade.get_data(reload = False)\n",
    "ratios = pytrade.calculate_ratio(raw)\n",
    "output = pytrade.analysis_1.run(ratios)\n",
    "output.sort_values(by=\"short_term_metric\",ascending=False,inplace=True)\n",
    "my_shortterm = output.loc[[\"DG\",\"BLK\",\"DXCM\",\"QRVO\",\"AMD\",\"LULU\",\"MSFT\"]]\n",
    "my_longterm = output.loc[[\"AMGN\",\"AAPL\",\"WMT\",\"OKE\",\"INTC\",\"KLAC\",\"REGN\"]]\n",
    "output"
   ]
  },
  {
   "cell_type": "code",
   "execution_count": null,
   "metadata": {
    "scrolled": true
   },
   "outputs": [],
   "source": [
    "output.sort_values(by=\"long_term_metric\",ascending=False,inplace=True)\n",
    "output"
   ]
  },
  {
   "cell_type": "code",
   "execution_count": null,
   "metadata": {},
   "outputs": [],
   "source": [
    "my_longterm"
   ]
  },
  {
   "cell_type": "code",
   "execution_count": null,
   "metadata": {
    "scrolled": true
   },
   "outputs": [],
   "source": [
    "my_shortterm"
   ]
  },
  {
   "cell_type": "code",
   "execution_count": null,
   "metadata": {},
   "outputs": [],
   "source": [
    "plt.close('all')\n",
    "ratios[\"DXCM\"].tail(250).plot()"
   ]
  },
  {
   "cell_type": "code",
   "execution_count": null,
   "metadata": {},
   "outputs": [],
   "source": [
    "shortterm_portfolio = pytrade.Portfolio.load(\"st_portfolio\", raw)"
   ]
  },
  {
   "cell_type": "code",
   "execution_count": null,
   "metadata": {},
   "outputs": [],
   "source": [
    "longterm_portfolio = pytrade.Portfolio.load(\"lt_portfolio\", raw)"
   ]
  },
  {
   "cell_type": "code",
   "execution_count": null,
   "metadata": {},
   "outputs": [],
   "source": [
    "shortterm_portfolio.save()"
   ]
  },
  {
   "cell_type": "code",
   "execution_count": null,
   "metadata": {},
   "outputs": [],
   "source": [
    "shortterm_portfolio.report()"
   ]
  },
  {
   "cell_type": "code",
   "execution_count": null,
   "metadata": {},
   "outputs": [],
   "source": [
    "shortterm_portfolio.buy_power"
   ]
  },
  {
   "cell_type": "code",
   "execution_count": null,
   "metadata": {},
   "outputs": [],
   "source": [
    "shortterm_portfolio.current_value()"
   ]
  },
  {
   "cell_type": "code",
   "execution_count": 7,
   "metadata": {},
   "outputs": [],
   "source": [
    "stock = pytrade.Stock(\"AAPL\",2,400)"
   ]
  },
  {
   "cell_type": "code",
   "execution_count": 8,
   "metadata": {},
   "outputs": [],
   "source": [
    "st = pytrade.StockTransaction(datetime.date.today(), pytrade.TransactionType.BUY, stock)"
   ]
  },
  {
   "cell_type": "code",
   "execution_count": 9,
   "metadata": {},
   "outputs": [
    {
     "name": "stdout",
     "output_type": "stream",
     "text": [
      "AAPL: 2 @ 200.0\n"
     ]
    }
   ],
   "source": [
    "print(st)"
   ]
  },
  {
   "cell_type": "code",
   "execution_count": 10,
   "metadata": {},
   "outputs": [],
   "source": [
    "dt = pytrade.DepositTransaction(datetime.date.today(), pytrade.TransactionType.DEPOSIT, 1000)"
   ]
  },
  {
   "cell_type": "code",
   "execution_count": 11,
   "metadata": {},
   "outputs": [
    {
     "name": "stdout",
     "output_type": "stream",
     "text": [
      "1000\n"
     ]
    }
   ],
   "source": [
    "print(dt)"
   ]
  },
  {
   "cell_type": "code",
   "execution_count": 12,
   "metadata": {},
   "outputs": [],
   "source": [
    "t = pytrade.Transaction(datetime.date.today(), pytrade.TransactionType.DEPOSIT)"
   ]
  },
  {
   "cell_type": "code",
   "execution_count": 17,
   "metadata": {},
   "outputs": [
    {
     "ename": "AttributeError",
     "evalue": "'Transaction' object has no attribute 'value'",
     "output_type": "error",
     "traceback": [
      "\u001b[1;31m---------------------------------------------------------------------------\u001b[0m",
      "\u001b[1;31mAttributeError\u001b[0m                            Traceback (most recent call last)",
      "\u001b[1;32m<ipython-input-17-19fd40974bb8>\u001b[0m in \u001b[0;36m<module>\u001b[1;34m\u001b[0m\n\u001b[1;32m----> 1\u001b[1;33m \u001b[0mt\u001b[0m\u001b[1;33m.\u001b[0m\u001b[0mvalue\u001b[0m\u001b[1;33m\u001b[0m\u001b[1;33m\u001b[0m\u001b[0m\n\u001b[0m",
      "\u001b[1;31mAttributeError\u001b[0m: 'Transaction' object has no attribute 'value'"
     ]
    }
   ],
   "source": [
    "t.value"
   ]
  },
  {
   "cell_type": "code",
   "execution_count": null,
   "metadata": {},
   "outputs": [],
   "source": []
  }
 ],
 "metadata": {
  "kernelspec": {
   "display_name": "Python 3",
   "language": "python",
   "name": "python3"
  },
  "language_info": {
   "codemirror_mode": {
    "name": "ipython",
    "version": 3
   },
   "file_extension": ".py",
   "mimetype": "text/x-python",
   "name": "python",
   "nbconvert_exporter": "python",
   "pygments_lexer": "ipython3",
   "version": "3.7.6"
  }
 },
 "nbformat": 4,
 "nbformat_minor": 4
}
